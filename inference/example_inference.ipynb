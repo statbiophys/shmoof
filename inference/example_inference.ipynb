{
 "cells": [
  {
   "cell_type": "code",
   "execution_count": null,
   "metadata": {},
   "outputs": [],
   "source": [
    "from shmoof import ContextPosition"
   ]
  },
  {
   "cell_type": "code",
   "execution_count": null,
   "metadata": {},
   "outputs": [],
   "source": [
    "individuals = ['316188',\n",
    "               '326650',\n",
    "               '326651',\n",
    "               '326713',\n",
    "               '326737',\n",
    "               '326780',\n",
    "               '326797',\n",
    "               '326907',\n",
    "               '327059']"
   ]
  },
  {
   "cell_type": "code",
   "execution_count": null,
   "metadata": {},
   "outputs": [],
   "source": [
    "model = ContextPosition(individuals=individuals)"
   ]
  },
  {
   "cell_type": "code",
   "execution_count": null,
   "metadata": {},
   "outputs": [],
   "source": [
    "gammas,betas = model.infer(nb_of_iterations=2)\n",
    "gamma, beta = gammas[:,-1], betas[:,-1]"
   ]
  },
  {
   "cell_type": "code",
   "execution_count": null,
   "metadata": {},
   "outputs": [],
   "source": [
    "simulated_data = model.simulate()"
   ]
  }
 ],
 "metadata": {
  "kernelspec": {
   "display_name": "alice",
   "language": "python",
   "name": "alice"
  },
  "language_info": {
   "codemirror_mode": {
    "name": "ipython",
    "version": 3
   },
   "file_extension": ".py",
   "mimetype": "text/x-python",
   "name": "python",
   "nbconvert_exporter": "python",
   "pygments_lexer": "ipython3",
   "version": "3.8.3"
  }
 },
 "nbformat": 4,
 "nbformat_minor": 2
}
