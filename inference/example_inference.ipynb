{
 "cells": [
  {
   "cell_type": "code",
   "execution_count": 1,
   "metadata": {},
   "outputs": [],
   "source": [
    "from shmoof import ContextPosition"
   ]
  },
  {
   "cell_type": "code",
   "execution_count": 2,
   "metadata": {},
   "outputs": [],
   "source": [
    "individuals = ['316188',\n",
    "               '326650',\n",
    "               '326651',\n",
    "               '326713',\n",
    "               '326737',\n",
    "               '326780',\n",
    "               '326797',\n",
    "               '326907',\n",
    "               '327059']"
   ]
  },
  {
   "cell_type": "code",
   "execution_count": 4,
   "metadata": {},
   "outputs": [
    {
     "name": "stderr",
     "output_type": "stream",
     "text": [
      "100%|██████████| 437/437 [00:29<00:00, 14.81it/s]\n"
     ]
    }
   ],
   "source": [
    "data_location = 'oof_data/'\n",
    "model = ContextPosition(individuals=individuals[:2],data_location=data_location)"
   ]
  },
  {
   "cell_type": "code",
   "execution_count": 5,
   "metadata": {},
   "outputs": [
    {
     "name": "stderr",
     "output_type": "stream",
     "text": [
      "100%|██████████| 1024/1024 [00:43<00:00, 23.79it/s]\n",
      "100%|██████████| 500/500 [00:16<00:00, 31.10it/s]\n",
      "100%|██████████| 1024/1024 [00:33<00:00, 30.63it/s]\n",
      "100%|██████████| 500/500 [00:16<00:00, 30.85it/s]\n"
     ]
    }
   ],
   "source": [
    "gammas,betas = model.infer(nb_of_iterations=2)\n",
    "gamma, beta = gammas[:,-1], betas[:,-1]"
   ]
  },
  {
   "cell_type": "code",
   "execution_count": null,
   "metadata": {},
   "outputs": [],
   "source": []
  }
 ],
 "metadata": {
  "kernelspec": {
   "display_name": "alice",
   "language": "python",
   "name": "alice"
  },
  "language_info": {
   "codemirror_mode": {
    "name": "ipython",
    "version": 3
   },
   "file_extension": ".py",
   "mimetype": "text/x-python",
   "name": "python",
   "nbconvert_exporter": "python",
   "pygments_lexer": "ipython3",
   "version": "3.8.3"
  }
 },
 "nbformat": 4,
 "nbformat_minor": 2
}
